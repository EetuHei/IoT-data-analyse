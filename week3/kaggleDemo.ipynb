{
 "metadata": {
  "language_info": {
   "codemirror_mode": {
    "name": "ipython",
    "version": 3
   },
   "file_extension": ".py",
   "mimetype": "text/x-python",
   "name": "python",
   "nbconvert_exporter": "python",
   "pygments_lexer": "ipython3",
   "version": "3.8.3-final"
  },
  "orig_nbformat": 2,
  "kernelspec": {
   "name": "python_defaultSpec_1600172644657",
   "display_name": "Python 3.8.3 64-bit ('base': conda)"
  }
 },
 "nbformat": 4,
 "nbformat_minor": 2,
 "cells": [
  {
   "cell_type": "code",
   "execution_count": null,
   "metadata": {},
   "outputs": [],
   "source": [
    "# 1. How many men and women (sex feature) are represented in this dataset?\n",
    "import pandas as pd\n",
    "df = pd.read_csv('../input/adult.data.csv')\n",
    "\n",
    "# count values in sex row\n",
    "countSex = df['sex'].value_counts()\n",
    "\n",
    "# Male      21790\n",
    "# Female    10771\n",
    "print(countSex)"
   ]
  },
  {
   "cell_type": "code",
   "execution_count": null,
   "metadata": {},
   "outputs": [],
   "source": [
    "# 2. What is the average age (age feature) of women?\n",
    "import pandas as pd\n",
    "df = pd.read_csv('../input/adult.data.csv')\n",
    "\n",
    "#select group, get group \"Female\" and count average of age\n",
    "womenAvgAge = df.groupby('sex').get_group('Female')['age'].mean()\n",
    "\n",
    "# 36.85823043357163\n",
    "print(round(womenAvgAge, 2))"
   ]
  },
  {
   "cell_type": "code",
   "execution_count": null,
   "metadata": {},
   "outputs": [],
   "source": [
    "# 3. What is the percentage of German citizens (native-country feature)?\n",
    "import pandas as pd\n",
    "df = pd.read_csv('../input/adult.data.csv')\n",
    "\n",
    "# get total of inputs\n",
    "total = df['age'].count()\n",
    "\n",
    "# get people whom are from Germany\n",
    "germans = df.groupby('native-country').get_group('Germany')['age'].count()\n",
    "\n",
    "# Calculate percent value\n",
    "percent = 100 * float(germans)/float(total)\n",
    "\n",
    "# 0.42074874850281013\n",
    "print(round(percent, 2),'% are Germans')"
   ]
  },
  {
   "cell_type": "code",
   "execution_count": null,
   "metadata": {},
   "outputs": [],
   "source": [
    "# 4-5. What are the mean and standard deviation of age for those who earn more than 50K per year (salary feature) and those who earn less than 50K per year?\n",
    "\n",
    "import pandas as pd\n",
    "df = pd.read_csv('../input/adult.data.csv')\n",
    "\n",
    "# get peoples age who have salary over 50k\n",
    "salaryOver = df.loc[df['salary'] == '>50K', 'age']\n",
    "\n",
    "# get peoples age who have salary under 50k\n",
    "salaryUnder = df.loc[df['salary'] == '<=50K', 'age']\n",
    "\n",
    "# print out rounded age and standtard age for over and under \n",
    "print('the average age of rich: %s +- %s years, poor: %s +- %s years' %(round(salaryOver.mean(), 2), round(salaryOver.std(), 2), round(salaryUnder.mean(), 2), round(salaryUnder.std(), 2)))\n"
   ]
  },
  {
   "cell_type": "code",
   "execution_count": null,
   "metadata": {},
   "outputs": [],
   "source": [
    "# 6. Is it true that people who receive more than 50k have at least high school education? (education - Bachelors, Prof-school, Assoc-acdm, Assoc-voc, Masters or Doctorate feature)\n",
    "\n",
    "import pandas as pd\n",
    "df = pd.read_csv('../input/adult.data.csv')\n",
    "\n",
    "# select people who have salary over 50k and check if education is unique\n",
    "education = df.loc[df['salary'] == '>50k', 'education'].unique()\n",
    "\n",
    "# select people who have salary over 50k and check if education is in 'Bachelors', 'Prof-school', 'Assoc-acdm', 'Assoc-vac', 'Masters', 'Doctorate'\n",
    "educationIsIn = df.loc[(df['salary'] == '>50k') & (df['education'].isin(['Bachelors', 'Prof-school', 'Assoc-acdm', 'Assoc-vac', 'Masters', 'Doctorate']))]\n",
    "\n",
    "# both of these return empty array for some reason\n",
    "\n",
    "print(education, \"\\n\", educationIsIn)"
   ]
  },
  {
   "cell_type": "code",
   "execution_count": null,
   "metadata": {},
   "outputs": [],
   "source": [
    "# 7. Display age statistics for each race (race feature) and each gender (sex feature). Use groupby() and describe(). Find the maximum age of men of Amer-Indian-Eskimo race.\n",
    "\n",
    "import pandas as pd\n",
    "df = pd.read_csv('../input/adult.data.csv')\n",
    "\n",
    "# get data by race \"Amer-Indian-Eskimo\"\n",
    "dataOfAmerIndianEskimo = df.groupby('race').get_group('Amer-Indian-Eskimo')\n",
    "\n",
    "# sort males from the data\n",
    "males = dataOfAmerIndianEskimo.loc[dataOfAmerIndianEskimo['sex'] == 'Male']\n",
    "\n",
    "# print amount of males found in race\n",
    "print('Amer-Indian-Eskimo: %s males' %(males['race'].count()))\n",
    "\n",
    "# print out max age\n",
    "print('max age: ',males['age'].describe()['max'])"
   ]
  },
  {
   "cell_type": "code",
   "execution_count": null,
   "metadata": {},
   "outputs": [],
   "source": [
    "# 8. Among whom is the proportion of those who earn a lot (>50K) greater: married or single men (marital-status feature)? Consider as married those who have a marital-status starting with Married (Married-civ-spouse, Married-spouse-absent or Married-AF-spouse), the rest are considered bachelors.\n",
    "\n",
    "import pandas as pd\n",
    "df = pd.read_csv('../input/adult.data.csv')\n",
    "\n",
    "# get people who earn more than 50k\n",
    "dataOfRich = df.loc[df['salary'] == '>50K']\n",
    "\n",
    "# sort out males\n",
    "males = dataOfRich.loc[dataOfRich['sex'] == 'Male']\n",
    "\n",
    "# count how many men are \"married\" ( true 5965) and \"single\" (697)\n",
    "married = males['marital-status'].str.startswith('Married').value_counts()\n",
    "\n",
    "# true = \"married\", false = \"single\"\n",
    "print(married)"
   ]
  },
  {
   "cell_type": "code",
   "execution_count": 1,
   "metadata": {},
   "outputs": [],
   "source": [
    "# 9. What is the maximum number of hours a person works per week (hours-per-week feature)? How many people work such a number of hours, and what is the percentage of those who earn a lot (>50K) among them?\n",
    "\n",
    "import pandas as pd\n",
    "df = pd.read_csv('../input/adult.data.csv')\n",
    "\n",
    "# calculate max working hours\n",
    "maxHours = df['hours-per-week'].max()\n",
    "print('max hours: %s h/week' %(maxHours))\n",
    "\n",
    "# calculate how many ppl are working \"max\" hours\n",
    "workers = df[df['hours-per-week'] == maxHours].shape[0]\n",
    "print('total hard workers %s' %(workers))\n",
    "\n",
    "# calculate the percent value of who are working max hours and are earning more than 50k\n",
    "percent = 100 * float(df[(df['hours-per-week'] == maxHours) & (df['salary'] == '>50K')].shape[0]) / workers \n",
    "print('%s percent are rich' %(round(percent, 1)))"
   ]
  },
  {
   "cell_type": "code",
   "execution_count": 2,
   "metadata": {},
   "outputs": [],
   "source": [
    "# 10. Count the average time of work (hours-per-week) for those who earn a little and a lot (salary) for each country (native-country). What will these be for Japan?\n",
    "\n",
    "import pandas as pd\n",
    "df = pd.read_csv('../input/adult.data.csv')\n",
    "\n",
    "# get data of Japan\n",
    "japan = df.groupby('native-country').get_group('Japan')\n",
    "\n",
    "# sort rich people and get avg of working hours\n",
    "rich = japan.loc[japan['salary'] == '>50K']['hours-per-week'].mean()\n",
    "\n",
    "#sort poor people and get avg of working hours\n",
    "poor = japan.loc[japan['salary'] == '<=50K']['hours-per-week'].mean()\n",
    "\n",
    "print('rich are working avg of %s hours and poor are working average of %s hours a week' %(round(rich,1), round(poor, 1)))"
   ]
  }
 ]
}