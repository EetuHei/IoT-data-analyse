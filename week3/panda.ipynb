{
 "metadata": {
  "language_info": {
   "codemirror_mode": {
    "name": "ipython",
    "version": 3
   },
   "file_extension": ".py",
   "mimetype": "text/x-python",
   "name": "python",
   "nbconvert_exporter": "python",
   "pygments_lexer": "ipython3",
   "version": "3.8.3-final"
  },
  "orig_nbformat": 2,
  "kernelspec": {
   "name": "python_defaultSpec_1600158709458",
   "display_name": "Python 3.8.3 64-bit ('base': conda)"
  }
 },
 "nbformat": 4,
 "nbformat_minor": 2,
 "cells": [
  {
   "cell_type": "code",
   "execution_count": 7,
   "metadata": {
    "tags": []
   },
   "outputs": [
    {
     "output_type": "stream",
     "name": "stdout",
     "text": "index      company   body-style  wheel-base  length engine-type  \\\n0       0  alfa-romero  convertible        88.6   168.8        dohc   \n1       1  alfa-romero  convertible        88.6   168.8        dohc   \n2       2  alfa-romero    hatchback        94.5   171.2        ohcv   \n3       3         audi        sedan        99.8   176.6         ohc   \n4       4         audi        sedan        99.4   176.6         ohc   \n56     81   volkswagen        sedan        97.3   171.7         ohc   \n57     82   volkswagen        sedan        97.3   171.7         ohc   \n58     86   volkswagen        sedan        97.3   171.7         ohc   \n59     87        volvo        sedan       104.3   188.8         ohc   \n60     88        volvo        wagon       104.3   188.8         ohc   \n\n   num-of-cylinders  horsepower  average-mileage    price  \n0              four         111               21  13495.0  \n1              four         111               21  16500.0  \n2               six         154               19  16500.0  \n3              four         102               24  13950.0  \n4              five         115               18  17450.0  \n56             four          85               27   7975.0  \n57             four          52               37   7995.0  \n58             four         100               26   9995.0  \n59             four         114               23  12940.0  \n60             four         114               23  13415.0  \n"
    }
   ],
   "source": [
    "# From given data set print first and last five rows\n",
    "import pandas as pd\n",
    "\n",
    "# read the csv file and print first & 5 last rows\n",
    "df = pd.read_csv('Automobile_data.csv').head(5).append(df.tail(5))\n",
    "\n",
    "print(df)"
   ]
  },
  {
   "cell_type": "code",
   "execution_count": 27,
   "metadata": {
    "tags": []
   },
   "outputs": [
    {
     "output_type": "stream",
     "name": "stdout",
     "text": "company    price\n35  mercedes-benz  45400.0\n"
    }
   ],
   "source": [
    "# Find the most expensive car company name\n",
    "import pandas as pd\n",
    "df = pd.read_csv('Automobile_data.csv')\n",
    "\n",
    "# boolean to check where price equals to max price and select company and price\n",
    "maxPrice = df.loc[df['price'] == df['price'].max(), ['company','price']]\n",
    "\n",
    "print(maxPrice)\n"
   ]
  },
  {
   "cell_type": "code",
   "execution_count": 28,
   "metadata": {
    "tags": []
   },
   "outputs": [
    {
     "output_type": "stream",
     "name": "stdout",
     "text": "index company body-style  wheel-base  length engine-type num-of-cylinders  \\\n48     66  toyota  hatchback        95.7   158.7         ohc             four   \n49     67  toyota  hatchback        95.7   158.7         ohc             four   \n50     68  toyota  hatchback        95.7   158.7         ohc             four   \n51     69  toyota      wagon        95.7   169.7         ohc             four   \n52     70  toyota      wagon        95.7   169.7         ohc             four   \n53     71  toyota      wagon        95.7   169.7         ohc             four   \n54     79  toyota      wagon       104.5   187.8        dohc              six   \n\n    horsepower  average-mileage    price  \n48          62               35   5348.0  \n49          62               31   6338.0  \n50          62               31   6488.0  \n51          62               31   6918.0  \n52          62               27   7898.0  \n53          62               27   8778.0  \n54         156               19  15750.0  \n"
    }
   ],
   "source": [
    "# Print All Toyota Cars details\n",
    "import pandas as pd\n",
    "df = pd.read_csv('Automobile_data.csv')\n",
    "\n",
    "# group by company and select toyota\n",
    "carDetails = df.groupby('company').get_group('toyota')\n",
    "\n",
    "print(carDetails)"
   ]
  },
  {
   "cell_type": "code",
   "execution_count": 24,
   "metadata": {
    "tags": []
   },
   "outputs": [
    {
     "output_type": "stream",
     "name": "stdout",
     "text": "toyota           7\nbmw              6\nmazda            5\nnissan           5\nmercedes-benz    4\nvolkswagen       4\naudi             4\nmitsubishi       4\njaguar           3\nporsche          3\nchevrolet        3\nalfa-romero      3\nhonda            3\nisuzu            3\nvolvo            2\ndodge            2\nName: company, dtype: int64\n"
    }
   ],
   "source": [
    "# Count total cars per company\n",
    "import pandas as pd\n",
    "df = pd.read_csv('Automobile_data.csv')\n",
    "\n",
    "# select company and count how many cars each company has\n",
    "countCars = df['company'].value_counts()\n",
    "\n",
    "print(countCars)"
   ]
  },
  {
   "cell_type": "code",
   "execution_count": 29,
   "metadata": {
    "tags": []
   },
   "outputs": [
    {
     "output_type": "stream",
     "name": "stdout",
     "text": "company    price\ncompany                              \nalfa-romero      alfa-romero  16500.0\naudi                    audi  18920.0\nbmw                      bmw  41315.0\nchevrolet          chevrolet   6575.0\ndodge                  dodge   6377.0\nhonda                  honda  12945.0\nisuzu                  isuzu   6785.0\njaguar                jaguar  36000.0\nmazda                  mazda  18344.0\nmercedes-benz  mercedes-benz  45400.0\nmitsubishi        mitsubishi   8189.0\nnissan                nissan  13499.0\nporsche              porsche  37028.0\ntoyota                toyota  15750.0\nvolkswagen        volkswagen   9995.0\nvolvo                  volvo  13415.0\n"
    }
   ],
   "source": [
    "# Find each company’s highest priced car\n",
    "import pandas as pd\n",
    "df = pd.read_csv('Automobile_data.csv')\n",
    "\n",
    "# group by company and select companys based on highest price car\n",
    "highPriceCars = df.groupby('company')['company', 'price'].max()\n",
    "\n",
    "print(highPriceCars)"
   ]
  },
  {
   "cell_type": "code",
   "execution_count": 30,
   "metadata": {
    "tags": []
   },
   "outputs": [
    {
     "output_type": "stream",
     "name": "stdout",
     "text": "average-mileage\ncompany                       \nalfa-romero          20.333333\naudi                 20.000000\nbmw                  19.000000\nchevrolet            41.000000\ndodge                31.000000\nhonda                26.333333\nisuzu                33.333333\njaguar               14.333333\nmazda                28.000000\nmercedes-benz        18.000000\nmitsubishi           29.500000\nnissan               31.400000\nporsche              17.000000\ntoyota               28.714286\nvolkswagen           31.750000\nvolvo                23.000000\n"
    }
   ],
   "source": [
    "# Find the average mileage of each car making company\n",
    "import pandas as pd\n",
    "df = pd.read_csv('Automobile_data.csv')\n",
    "\n",
    "# group by company and select company and avg mileage and count mean\n",
    "mileage = df.groupby('company')['company', 'average-mileage'].mean()\n",
    "\n",
    "print(mileage)"
   ]
  },
  {
   "cell_type": "code",
   "execution_count": 31,
   "metadata": {
    "tags": []
   },
   "outputs": [
    {
     "output_type": "stream",
     "name": "stdout",
     "text": "index        company   body-style  wheel-base  length engine-type  \\\n35     47  mercedes-benz      hardtop       112.0   199.2        ohcv   \n11     14            bmw        sedan       103.5   193.8         ohc   \n34     46  mercedes-benz        sedan       120.9   208.1        ohcv   \n46     62        porsche  convertible        89.5   168.9        ohcf   \n12     15            bmw        sedan       110.0   197.0         ohc   \n..    ...            ...          ...         ...     ...         ...   \n27     36          mazda    hatchback        93.1   159.1         ohc   \n13     16      chevrolet    hatchback        88.4   141.1           l   \n22     31          isuzu        sedan        94.5   155.9         ohc   \n23     32          isuzu        sedan        94.5   155.9         ohc   \n47     63        porsche    hatchback        98.4   175.7       dohcv   \n\n   num-of-cylinders  horsepower  average-mileage    price  \n35            eight         184               14  45400.0  \n11              six         182               16  41315.0  \n34            eight         184               14  40960.0  \n46              six         207               17  37028.0  \n12              six         182               15  36880.0  \n..              ...         ...              ...      ...  \n27             four          68               30   5195.0  \n13            three          48               47   5151.0  \n22             four          70               38      NaN  \n23             four          70               38      NaN  \n47            eight         288               17      NaN  \n\n[61 rows x 10 columns]\n"
    }
   ],
   "source": [
    "# Sort all cars by Price column\n",
    "import pandas as pd\n",
    "df = pd.read_csv('Automobile_data.csv')\n",
    "\n",
    "# sort columns by price in decending orde\n",
    "sortByPrice = df.sort_values(by=['price'], ascending = False)\n",
    "\n",
    "print(sortByPrice)"
   ]
  }
 ]
}