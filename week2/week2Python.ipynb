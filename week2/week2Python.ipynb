{
 "metadata": {
  "language_info": {
   "codemirror_mode": {
    "name": "ipython",
    "version": 3
   },
   "file_extension": ".py",
   "mimetype": "text/x-python",
   "name": "python",
   "nbconvert_exporter": "python",
   "pygments_lexer": "ipython3",
   "version": "3.8.3-final"
  },
  "orig_nbformat": 2,
  "kernelspec": {
   "name": "python_defaultSpec_1599047217438",
   "display_name": "Python 3.8.3 64-bit ('base': conda)"
  }
 },
 "nbformat": 4,
 "nbformat_minor": 2,
 "cells": [
  {
   "cell_type": "code",
   "execution_count": 29,
   "metadata": {
    "tags": []
   },
   "outputs": [
    {
     "output_type": "stream",
     "name": "stdout",
     "text": "given weight in kg:  80.054390534 kg \nyour weight in pounds:  176.12 lbs\n"
    }
   ],
   "source": [
    "# covert kg to pouds, scalar conversion 2.2 lbs per kg, print resulting weight in array\n",
    "def kgToPounds(kg):\n",
    "    # convert inptu kg to pounds\n",
    "    pounds = float(kg)*2.2\n",
    "\n",
    "    # empty list\n",
    "    weight = list()\n",
    "\n",
    "    #update list with given kg and pounds + round pounds to 2 decimals\n",
    "    weight.append(kg)\n",
    "    weight.append(round(pounds, 2))\n",
    "\n",
    "    # print user input and print weight in pounds with two decimals on new line:\n",
    "    # given weight in kg:  80.4 kg \n",
    "    # your weight in pounds:  176.88 lbs\n",
    "    print('given weight in kg: ', weight[0], 'kg', '\\n' 'your weight in pounds: ', weight[1], 'lbs')\n",
    "kgToPounds(input(\"enter the mount of kilograms\"))"
   ]
  }
 ]
}