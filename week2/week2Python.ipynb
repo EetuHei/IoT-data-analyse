{
 "metadata": {
  "language_info": {
   "codemirror_mode": {
    "name": "ipython",
    "version": 3
   },
   "file_extension": ".py",
   "mimetype": "text/x-python",
   "name": "python",
   "nbconvert_exporter": "python",
   "pygments_lexer": "ipython3",
   "version": "3.8.3-final"
  },
  "orig_nbformat": 2,
  "kernelspec": {
   "name": "python_defaultSpec_1599583552934",
   "display_name": "Python 3.8.3 64-bit ('base': conda)"
  }
 },
 "nbformat": 4,
 "nbformat_minor": 2,
 "cells": [
  {
   "cell_type": "code",
   "execution_count": 29,
   "metadata": {
    "tags": []
   },
   "outputs": [
    {
     "output_type": "stream",
     "name": "stdout",
     "text": "given weight in kg:  80.054390534 kg \nyour weight in pounds:  176.12 lbs\n"
    }
   ],
   "source": [
    "# covert kg to pouds, scalar conversion 2.2 lbs per kg, print resulting weight in array\n",
    "def kgToPounds(kg):\n",
    "    # convert inptu kg to pounds\n",
    "    pounds = float(kg)*2.2\n",
    "\n",
    "    # empty list\n",
    "    weight = list()\n",
    "\n",
    "    # update list with given kg and pounds + round pounds to 2 decimals\n",
    "    weight.append(kg)\n",
    "    weight.append(round(pounds, 2))\n",
    "\n",
    "    # print user input and print weight in pounds with two decimals on new line:\n",
    "    # given weight in kg:  80.4 kg \n",
    "    # your weight in pounds:  176.88 lbs\n",
    "    print('given weight in kg: ', weight[0], 'kg', '\\n' 'your weight in pounds: ', weight[1], 'lbs')\n",
    "\n",
    "kgToPounds(input(\"enter the mount of kilograms\"))"
   ]
  },
  {
   "cell_type": "code",
   "execution_count": 10,
   "metadata": {
    "tags": []
   },
   "outputs": [
    {
     "output_type": "stream",
     "name": "stdout",
     "text": "Sum of elements in given list is : 130\n"
    }
   ],
   "source": [
    "# Write a Python function to sum all the numbers in a list\n",
    "def sumOfList():\n",
    "\n",
    "    # empty list\n",
    "    emptyList = list()\n",
    "\n",
    "    # ask user how many numbers they want to input\n",
    "    num = int(input('How many numbers: '))\n",
    "\n",
    "    # loop to add given numbers to the list\n",
    "    # in range of how many numbers they wanted to add\n",
    "    for number in range(num):\n",
    "        numbers = int(input('Enter number '))\n",
    "        emptyList.append(numbers)\n",
    "\n",
    "    # print out the sum of the list\n",
    "    print(\"Sum of elements in given list is :\", sum(emptyList))\n",
    "    \n",
    "sumOfList()"
   ]
  },
  {
   "cell_type": "code",
   "execution_count": 5,
   "metadata": {
    "tags": []
   },
   "outputs": [
    {
     "output_type": "stream",
     "name": "stdout",
     "text": "number 230 is in the range\n"
    }
   ],
   "source": [
    "# Write a Python function to check whether a number is in a given range.\n",
    "def isInRange(num):\n",
    "\n",
    "    # check if the given number is in range of 20 - 230\n",
    "    if num in range(20, 230) or num == 230:\n",
    "        # print that the number is in range\n",
    "        print( 'number', num,  'is in the range')\n",
    "    else:\n",
    "        # else print that the number is not in range\n",
    "        print('number is outside the given range')\n",
    "        \n",
    "isInRange(int(input('give a number to check if its in range')))"
   ]
  },
  {
   "cell_type": "code",
   "execution_count": 18,
   "metadata": {
    "tags": []
   },
   "outputs": [
    {
     "output_type": "stream",
     "name": "stdout",
     "text": "number 15 is a prime number\n"
    }
   ],
   "source": [
    "# Write a Python function that takes a number as a parameter and check the number is prime or not. Note : A prime number (or a prime) is a natural number greater than 1 and that has no positive divisors other than 1 and itself.\n",
    "def checkPrime(num):\n",
    "\n",
    "    # check if number is greater than 1\n",
    "    if num > 1:\n",
    "        # loop to iterate given number\n",
    "        for number in range(2, num):\n",
    "            # if num modulus number is 0 then the number is not prime\n",
    "            if (num % number) == 0:\n",
    "                print('number', num, 'is not a prime number')\n",
    "                break\n",
    "            else:\n",
    "                # else the number is prime\n",
    "                print('number', num, 'is a prime number')\n",
    "                break\n",
    "    else:\n",
    "        # given number was not greater than 1\n",
    "        print('number must be greater than 1')\n",
    "\n",
    "checkPrime(int(input('input number to check if its a prime number')))"
   ]
  },
  {
   "cell_type": "code",
   "execution_count": 10,
   "metadata": {
    "tags": []
   },
   "outputs": [
    {
     "output_type": "stream",
     "name": "stdout",
     "text": "given word \"rotator\" is palindrome\nhere is the word as palindrome \"rotator\"\n"
    }
   ],
   "source": [
    "#  Write a Python function that checks whether a passed string is palindrome or not.\n",
    "# Note: A palindrome is a word, phrase, or sequence that reads the same backward as forward, e.g., madam or nurses run.\n",
    "def checkStr(userInput):\n",
    "\n",
    "    # invert the givn inptu\n",
    "    inverted = str(userInput)[::-1]\n",
    "\n",
    "    # check if given input equals to inverted value of input\n",
    "    if(str(userInput) == inverted):\n",
    "        # print out given input and palindromed version if they are equal \n",
    "        print('given word', f'\"{userInput}\"', 'is palindrome\\nhere is the word as palindrome', f'\"{inverted}\"')\n",
    "    else:\n",
    "        # print out given input and palindromed version of the intpu if they are not equal\n",
    "        print('given word', f'\"{userInput}\"', 'is not palindrome\\nhere is the word as palindrome', f'\"{inverted}\"')\n",
    "        \n",
    "checkStr(input(\"give a word to check if its palindrome\"))"
   ]
  }
 ]
}