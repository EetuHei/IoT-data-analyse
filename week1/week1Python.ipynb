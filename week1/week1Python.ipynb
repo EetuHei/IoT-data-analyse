{
 "cells": [
  {
   "cell_type": "code",
   "execution_count": 1,
   "metadata": {
    "tags": []
   },
   "outputs": [
    {
     "output_type": "stream",
     "name": "stdout",
     "text": "[[10 11 12 13]\n [14 15 16 17]\n [18 19 20 21]]\n"
    }
   ],
   "source": [
    "# Write a NumPy program to create a 3x4 matrix filled with values from 10 to 21.\n",
    "import numpy as np\n",
    "x = np.arange(10, 22).reshape(3, 4)\n",
    "\n",
    "# [[10 11 12 13]\n",
    "# [14 15 16 17]\n",
    "# [18 19 20 21]]\n",
    "print(x)\n"
   ]
  },
  {
   "cell_type": "code",
   "execution_count": 2,
   "metadata": {
    "tags": []
   },
   "outputs": [
    {
     "output_type": "stream",
     "name": "stdout",
     "text": "original array:\n[1 2 3 4]\ntest if none of the elements of the said array is zero:\nTrue\noriginal array:\n[0 1 2 3]\ntest if none of the elements of the said array is zero:\nFalse\n"
    }
   ],
   "source": [
    "# Write a NumPy program to test whether none of the elements of a given array is zero.\n",
    "import numpy as np\n",
    "x = np.array([1, 2, 3, 4])\n",
    "\n",
    "print(\"original array:\")\n",
    "print(x)\n",
    "print(\"test if none of the elements of the said array is zero:\")\n",
    "# True\n",
    "print(np.all(x))\n",
    "\n",
    "x = np.array([0, 1, 2, 3])\n",
    "print(\"original array:\")\n",
    "print(x)\n",
    "print(\"test if none of the elements of the said array is zero:\")\n",
    "# False\n",
    "print(np.all(x))\n"
   ]
  },
  {
   "cell_type": "code",
   "execution_count": 3,
   "metadata": {
    "tags": []
   },
   "outputs": [
    {
     "output_type": "stream",
     "name": "stdout",
     "text": "16 bytes\n"
    }
   ],
   "source": [
    "# Write a NumPy program to create an array with the values 1, 7, 13, 105 and determine the size of the memory occupied by the array. \n",
    "import numpy as np\n",
    "x = np.array([1, 7, 13, 105])\n",
    "\n",
    "# 16 bytes\n",
    "print(\"%d bytes\" % (x.size * x.itemsize))\n"
   ]
  },
  {
   "cell_type": "code",
   "execution_count": 4,
   "metadata": {
    "tags": []
   },
   "outputs": [
    {
     "output_type": "stream",
     "name": "stdout",
     "text": "[30 31 32 33 34 35 36 37 38 39 40 41 42 43 44 45 46 47 48 49 50 51 52 53\n 54 55 56 57 58 59 60 61 62 63 64 65 66 67 68 69 70]\n"
    }
   ],
   "source": [
    "# Write a NumPy program to create an array of the integers from 30 to70\n",
    "import numpy as np\n",
    "array = np.arange(30, 71)\n",
    "\n",
    "# [30 31 32 33 34 35 36 37 38 39 40 41 42 43 44 45 46 47 48 49 50 51 52 53\n",
    "#  54 55 56 57 58 59 60 61 62 63 64 65 66 67 68 69 70]\n",
    "print(array)\n"
   ]
  },
  {
   "cell_type": "code",
   "execution_count": 5,
   "metadata": {
    "tags": []
   },
   "outputs": [
    {
     "output_type": "stream",
     "name": "stdout",
     "text": "[4 3 2 1]\n"
    }
   ],
   "source": [
    "# Write a NumPy program to reverse an array (first element becomes last).\n",
    "import numpy as np\n",
    "x = np.array([1, 2, 3, 4])\n",
    "\n",
    "# [4 3 2 1]\n",
    "print(np.flip(x))\n"
   ]
  },
  {
   "cell_type": "code",
   "execution_count": 6,
   "metadata": {
    "tags": []
   },
   "outputs": [
    {
     "output_type": "stream",
     "name": "stdout",
     "text": "[ 3  5  6  9 10 12 15 18 20 21 24 25 27 30 33 35 36 39 40 42 45 48 50 51\n 54 55 57 60 63 65 66 69 70 72 75 78 80 81 84 85 87 90 93 95 96 99]\n2318\n"
    }
   ],
   "source": [
    "# Write a NumPy program (using numpy) to sum of all the multiples of 3 or 5 below 100. \n",
    "import numpy as np\n",
    "x = np.arange(1, 100)\n",
    "\n",
    "# find  multiple of 3 or 5\n",
    "n = x[(x % 3 == 0) | (x % 5 == 0)]\n",
    "print(n[:1000])\n",
    "\n",
    "# print sum the numbers\n",
    "# [ 3  5  6  9 10 12 15 18 20 21 24 25 27 30 33 35 36 39 40 42 45 48 50 51\n",
    "#  54 55 57 60 63 65 66 69 70 72 75 78 80 81 84 85 87 90 93 95 96 99]\n",
    "# 2318\n",
    "print(n.sum())\n"
   ]
  },
  {
   "cell_type": "code",
   "execution_count": 7,
   "metadata": {
    "tags": []
   },
   "outputs": [
    {
     "output_type": "stream",
     "name": "stdout",
     "text": "[[20 39 33]\n [25 25 28]]\nresult array after calculating the sqrt of all elements\n[[ 400 1521 1089]\n [ 625  625  784]]\n"
    }
   ],
   "source": [
    "# Add the following two NumPy arrays and Modify a result array by calculating the square root of each element\n",
    "import numpy as np\n",
    "arrOne = np.array([[5, 6, 9], [21, 18, 27]])\n",
    "arrTwo = np.array([[15, 33, 24], [4, 7, 1]])\n",
    "\n",
    "result = arrOne + arrTwo\n",
    "print(result)\n",
    "\n",
    "for numbers in np.nditer(result, op_flags=['readwrite']):\n",
    "    numbers[...] = numbers*numbers\n",
    "print(\"result array after calculating the sqrt of all elements\")\n",
    "# [[ 400 1521 1089]\n",
    "#  [ 625  625  784]]\n",
    "print(result)\n"
   ]
  },
  {
   "cell_type": "code",
   "execution_count": 8,
   "metadata": {
    "tags": []
   },
   "outputs": [
    {
     "output_type": "stream",
     "name": "stdout",
     "text": "[[100 110]\n [120 130]\n [140 150]\n [160 170]\n [180 190]]\n"
    }
   ],
   "source": [
    "# Create a 5X2 integer array from a range between 100 to 200 such that the difference between each element is 10\n",
    "import numpy as np\n",
    "arr = np.arange(100, 200, 10)\n",
    "arr = arr.reshape(5, 2)\n",
    "\n",
    "# [[100 110]\n",
    "#  [120 130]\n",
    "#  [140 150]\n",
    "#  [160 170]\n",
    "#  [180 190]]\n",
    "print(arr)\n"
   ]
  },
  {
   "cell_type": "code",
   "execution_count": 9,
   "metadata": {
    "tags": []
   },
   "outputs": [
    {
     "output_type": "stream",
     "name": "stdout",
     "text": "original array\n[[34 43 73]\n [82 22 12]\n [53 94 66]]\namin of axis 1\n[34 12 53]\namax of axis 0\n[82 94 73]\n"
    }
   ],
   "source": [
    "# Following is the 2-D array. Print max from axis 0 and min from axis 1\n",
    "import numpy as np\n",
    "arr = np.array([[34,43,73],[82,22,12],[53,94,66]])\n",
    "\n",
    "print(\"original array\")\n",
    "# [[34 43 73]\n",
    "#  [82 22 12]\n",
    "#  [53 94 66]]\n",
    "print(arr)\n",
    "\n",
    "minOfAxisxOne = np.amin(arr, 1)\n",
    "print(\"amin of axis 1\")\n",
    "# [34 12 53]\n",
    "print(minOfAxisxOne)\n",
    "\n",
    "maxOfAxisOne = np.amax(arr, 0)\n",
    "print(\"amax of axis 0\")\n",
    "# [82 94 73]\n",
    "print(maxOfAxisOne)"
   ]
  },
  {
   "cell_type": "code",
   "execution_count": 10,
   "metadata": {
    "tags": []
   },
   "outputs": [
    {
     "output_type": "stream",
     "name": "stdout",
     "text": "original array\n[[34 43 73]\n [82 22 12]\n [53 94 66]]\nsort array by second row\n[[73 43 34]\n [12 22 82]\n [66 94 53]]\nsort array by second column\n[[82 22 12]\n [34 43 73]\n [53 94 66]]\n"
    }
   ],
   "source": [
    "# Sort following NumPy array\n",
    "import numpy as np\n",
    "arr = np.array([[34, 43, 73], [82, 22, 12], [53, 94, 66]])\n",
    "\n",
    "print(\"original array\")\n",
    "print(arr)\n",
    "\n",
    "sortArrByRow = arr[:, arr[1, :].argsort()]\n",
    "print(\"sort array by second row\")\n",
    "# [[73 43 34]\n",
    "#  [12 22 82]\n",
    "#  [66 94 53]]\n",
    "print(sortArrByRow)\n",
    "\n",
    "sortArrByColumn = arr[arr[:, 1].argsort()]\n",
    "print(\"sort array by second column\")\n",
    "# [[82 22 12]\n",
    "#  [34 43 73]\n",
    "#  [53 94 66]]\n",
    "print(sortArrByColumn)\n"
   ]
  }
 ],
 "metadata": {
  "kernelspec": {
   "display_name": "Python 3.8.3 64-bit ('base': conda)",
   "language": "python",
   "name": "python_defaultSpec_1599046079122"
  },
  "language_info": {
   "codemirror_mode": {
    "name": "ipython",
    "version": 3
   },
   "file_extension": ".py",
   "mimetype": "text/x-python",
   "name": "python",
   "nbconvert_exporter": "python",
   "pygments_lexer": "ipython3",
   "version": "3.8.3-final"
  }
 },
 "nbformat": 4,
 "nbformat_minor": 4
}