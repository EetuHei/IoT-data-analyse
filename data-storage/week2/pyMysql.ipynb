{
 "metadata": {
  "language_info": {
   "codemirror_mode": {
    "name": "ipython",
    "version": 3
   },
   "file_extension": ".py",
   "mimetype": "text/x-python",
   "name": "python",
   "nbconvert_exporter": "python",
   "pygments_lexer": "ipython3",
   "version": "3.8.3-final"
  },
  "orig_nbformat": 2,
  "kernelspec": {
   "name": "python_defaultSpec_1599567330326",
   "display_name": "Python 3.8.3 64-bit ('base': conda)"
  }
 },
 "nbformat": 4,
 "nbformat_minor": 2,
 "cells": [
  {
   "cell_type": "code",
   "execution_count": 1,
   "metadata": {
    "tags": []
   },
   "outputs": [
    {
     "output_type": "stream",
     "name": "stdout",
     "text": "Can't create database 'testingwithpython'; database exists\n"
    },
    {
     "output_type": "execute_result",
     "data": {
      "text/plain": "True"
     },
     "metadata": {},
     "execution_count": 1
    }
   ],
   "source": [
    "# Create database\n",
    "import mysql.connector\n",
    "from mysql.connector import errorcode\n",
    "\n",
    "# db connection\n",
    "db = mysql.connector.connect(\n",
    "  host = 'localhost',\n",
    "  user = 'root',\n",
    "  password = ''\n",
    ")\n",
    "\n",
    "\n",
    "cursor = db.cursor()\n",
    "\n",
    "# try catch error\n",
    "try:\n",
    "    # execute query create database\n",
    "    cursor.execute('CREATE DATABASE testingwithpython')\n",
    "# basic error handling\n",
    "except mysql.connector.Error as err:\n",
    "    if(err.errno == errorcode.ER_BAD_DB_ERROR):\n",
    "        print('already exists')\n",
    "    else:\n",
    "        print(err.msg)\n",
    "else:\n",
    "    print('OK')\n",
    "\n",
    "cursor.close()\n"
   ]
  },
  {
   "cell_type": "code",
   "execution_count": 4,
   "metadata": {
    "tags": []
   },
   "outputs": [
    {
     "output_type": "stream",
     "name": "stdout",
     "text": "already exists\n"
    },
    {
     "output_type": "execute_result",
     "data": {
      "text/plain": "True"
     },
     "metadata": {},
     "execution_count": 4
    }
   ],
   "source": [
    "# Create table\n",
    "import os\n",
    "from dotenv import load_dotenv\n",
    "load_dotenv()\n",
    "import mysql.connector\n",
    "from mysql.connector import errorcode\n",
    "\n",
    "# db connection\n",
    "db = mysql.connector.connect(\n",
    "  host = 'localhost',\n",
    "  user = 'root',\n",
    "  password = '',\n",
    "  database = os.getenv(\"DATABASE\") # get exercise 1 db name from .env file\n",
    ")\n",
    "\n",
    "cursor = db.cursor()\n",
    "\n",
    "# try catch error\n",
    "try:\n",
    "    # execute query create table user with name and address columns\n",
    "    cursor.execute('CREATE TABLE user (name VARCHAR(255), address VARCHAR(255))')\n",
    "# basic error handling\n",
    "except mysql.connector.Error as err:\n",
    "    if(err.errno == errorcode.ER_TABLE_EXISTS_ERROR):\n",
    "        print('already exists')\n",
    "    else:\n",
    "        print(err.msg)\n",
    "else:\n",
    "    print('OK')\n",
    "\n",
    "cursor.close()"
   ]
  },
  {
   "cell_type": "code",
   "execution_count": 4,
   "metadata": {
    "tags": []
   },
   "outputs": [
    {
     "output_type": "stream",
     "name": "stdout",
     "text": "inserted record\n"
    },
    {
     "output_type": "execute_result",
     "data": {
      "text/plain": "True"
     },
     "metadata": {},
     "execution_count": 4
    }
   ],
   "source": [
    "# Insert record\n",
    "\n",
    "# Create table\n",
    "import os\n",
    "from dotenv import load_dotenv\n",
    "load_dotenv()\n",
    "import mysql.connector\n",
    "from mysql.connector import errorcode\n",
    "\n",
    "# db connection\n",
    "db = mysql.connector.connect(\n",
    "  host = 'localhost',\n",
    "  user = 'root',\n",
    "  password = '',\n",
    "  database = os.getenv(\"DATABASE\") # get exercise 1 db name from .env file\n",
    ")\n",
    "\n",
    "cursor = db.cursor()\n",
    "\n",
    "# try catch error\n",
    "try:\n",
    "    # execute query inert into user with name and address columns\n",
    "    cursor.execute('INSERT INTO user (name, address) VALUES (\"Mikko Meikäläinen\", \"kotkantie 1\")')\n",
    "    db.commit()\n",
    "# basic error handling\n",
    "except mysql.connector.Error as err:\n",
    "    if err:\n",
    "        print(err.msg)\n",
    "else:\n",
    "    print(\"inserted record\")\n",
    "\n",
    "cursor.close()"
   ]
  },
  {
   "cell_type": "code",
   "execution_count": 6,
   "metadata": {
    "tags": []
   },
   "outputs": [
    {
     "output_type": "stream",
     "name": "stdout",
     "text": "('Mikko Meikäläinen', 'kotkantie 1')\n('Mikko Meikäläinen', 'kotkantie 1')\n('Mikko Meikäläinen', 'kotkantie 1')\nfetched all data\n"
    },
    {
     "output_type": "execute_result",
     "data": {
      "text/plain": "True"
     },
     "metadata": {},
     "execution_count": 6
    }
   ],
   "source": [
    "# Select data\n",
    "# Insert record\n",
    "\n",
    "# Create table\n",
    "import os\n",
    "from dotenv import load_dotenv\n",
    "load_dotenv()\n",
    "import mysql.connector\n",
    "from mysql.connector import errorcode\n",
    "\n",
    "# db connection\n",
    "db = mysql.connector.connect(\n",
    "  host = 'localhost',\n",
    "  user = 'root',\n",
    "  password = '',\n",
    "  database = os.getenv(\"DATABASE\") # get exercise 1 db name from .env file\n",
    ")\n",
    "\n",
    "cursor = db.cursor()\n",
    "\n",
    "# try catch error\n",
    "try:\n",
    "    # execute query select all from user\n",
    "    cursor.execute('SELECT * FROM user')\n",
    "\n",
    "    # fetch data\n",
    "    res = cursor.fetchall()\n",
    "    \n",
    "    # loop to print out all data\n",
    "    for data in res:\n",
    "        print(data)\n",
    "# basic error handling\n",
    "except mysql.connector.Error as err:\n",
    "    if err:\n",
    "        print(err.msg)\n",
    "else:\n",
    "    print('fetched all data')\n",
    "\n",
    "cursor.close()"
   ]
  }
 ]
}